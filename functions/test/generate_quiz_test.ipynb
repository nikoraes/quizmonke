{
 "cells": [
  {
   "cell_type": "code",
   "execution_count": 1,
   "metadata": {},
   "outputs": [],
   "source": [
    "from datetime import datetime\n",
    "import logging\n",
    "from typing import List, Optional\n",
    "\n",
    "from firebase_admin import initialize_app, firestore\n",
    "from google.cloud.firestore_v1.base_query import FieldFilter\n",
    "from google.cloud import firestore\n",
    "import vertexai\n",
    "\n",
    "from langchain.prompts import PromptTemplate\n",
    "from langchain.llms import VertexAI\n",
    "from langchain.chat_models import ChatVertexAI\n",
    "from langchain.output_parsers import PydanticOutputParser\n",
    "from langchain.pydantic_v1 import BaseModel, Field\n",
    "from langchain.schema import HumanMessage, SystemMessage, AIMessage\n",
    "\n",
    "initialize_app(name=\"schoolscan-4c8d8\")\n",
    "firestore_client = firestore.Client(project=\"schoolscan-4c8d8\")"
   ]
  },
  {
   "cell_type": "code",
   "execution_count": 2,
   "metadata": {},
   "outputs": [],
   "source": [
    "user_id = \"I6KPdRipfkPJMD5jsY8nBRHCjcI3\" # \"edUQCUBsomU2qLlEhtqs8EDivP73\""
   ]
  },
  {
   "cell_type": "code",
   "execution_count": 3,
   "metadata": {},
   "outputs": [
    {
     "name": "stdout",
     "output_type": "stream",
     "text": [
      "E21gEE4MtLDXqz2oXEew\n",
      "{'language': 'nl', 'description': 'Hoe organiseerden de mensen zich in de eerste steden in het oude nabije oosten?', 'tags': ['Mesopotamië', 'Sumer', 'Akkadië', 'Babylon', 'handel'], 'quizStatus': 'done', 'summaryStatus': 'done', 'summary': 'The inhabitants of Mesopotamia made art to serve different purposes. The gate of Ishtar was a propaganda tool that showed the power of the king and the city-state of Babylon. The praying figurines and the amulet of Lamasjtoe had a religious function and helped people in their daily lives.', 'roles': {'I6KPdRipfkPJMD5jsY8nBRHCjcI3': 'owner', '0li2Yf3Cf7dTI1Z3IsZbG22n8Y83': 'owner', 'EZguMyHn1HXQoWLB7pyHhyLbkdj1': 'owner', 'KNKcHeL2j6eOtUx6u5bQZjc2pr43': 'owner'}, 'outlineStatus': 'done', 'extractStatus': 'done', 'outline': ' I. Introduction\\n   A. Mesopotamia: A Fertile Crescent Civilization\\n   B. The Development of Cities in Mesopotamia\\nII. The City-State of Ur\\n   A. The City of Ur\\n   B. The Rulers of Ur\\n   C. The Economy of Ur\\n   D. The Religion of Ur\\n   E. The Laws of Ur\\nIII. The Akkadian Empire\\n   A. The Rise of Akkad\\n   B. The Rule of Sargon\\n   C. The Akkadian Empire and Trade\\nIV. The Babylonian Empire\\n   A. The Rise of Babylon\\n   B. The Rule of Hammurabi\\n   C. The Babylonian Empire and the Law Code of Hammurabi\\nV. Conclusion\\n   A. The Legacy of Mesopotamia\\n   B. The Importance of Mesopotamia in the Development of Civilization', 'timestamp': DatetimeWithNanoseconds(2023, 10, 7, 21, 52, 51, 701000, tzinfo=datetime.timezone.utc), 'name': 'De eerste steden in het oude nabije oosten'}\n",
      "JLnNlGxvrCzB9uXgTiW2\n",
      "{'language': 'nl', 'description': 'Woorden met sch, schr, str of spr', 'tags': ['spelling', 'lezen', 'schrijven', 'taal', 'woord'], 'quizStatus': 'done', 'summaryStatus': 'done', 'summary': ' **Naam: Taak**\\n\\nWoorden net als schroeven, schatten en scheve\\n\\nWoorden met sch, schr, str of spr\\n\\nJe schrijft wat je hoort. Luister goed, zeker als klanken op elkaar lijken.\\n\\n**Tip**\\n\\nAls je goed luistert, hoor je het verschil: sch, schr, str, spr.\\n\\nWoorden met sch schrijf je net als schat.\\n\\nWoorden met schr schrijf je net als schreef.\\n\\nWoorden met str schrijf je net als straat.\\n\\nWoorden met spr schrijf je net als sprak.\\n\\n**Verenkelen en verdubbelen**\\n\\nIk luister naar\\n\\nhet einde van\\n\\nde klankgroep\\n\\nde dierentuin\\n\\nde paarden\\n\\nde goudvissen\\n\\nde muziekdoos\\n\\nschrikken\\n\\nde zomer\\n\\nde schatten\\n\\njammer\\n\\nde schoten\\n\\n**Ik hoor een**\\n\\nkorte klank\\n\\n1 Kijk goed. Bedek het woord en schrijf het in de zin.\\n\\ndierentin\\n\\nIn de\\n\\nZijn alle\\n\\npor Paardew\\n\\ngoudvissen\\n\\nDie Muziekdoos\\n\\n\"Niet schrikken\\n\\nvertrekken\\n\\nIk hoor een\\n\\nlange klank.\\n\\nIk hoor een\\n\\nandere klank.\\n\\nIk schrijf\\n\\n1 klinker en\\n\\n2 medeklinkers.\\n\\nIk schrijf\\n\\n1 klinker en\\n\\n1 medeklinker.\\n\\nIk schrijf\\n\\ngewoon\\n\\nWe\\n\\nvette vissen\\n\\nzonnen tussen\\n\\nkwallen\\n\\napen kopen\\n\\ncure kleren\\n\\njonge dieven\\n\\nworden meestal\\n\\ngepakt en\\n\\nkrijgen flinke\\n\\nboetes\\n\\nzijn heel sterke dieren.\\n\\nLiggen er\\n\\nHeb je ook de\\n\\nJammer\\n\\n2 cholen\\n\\nvertrekken\\n\\nis een reuzenpanda geboren.\\n\\nVolgens de weervrouw is dit de warmste\\n\\nschatter\\n\\nspellingweter 14\\n\\noranje?\\n\\nnr:24\\n\\nmaakt geluid als je ze opent.\\n\\nvan de olifant!\" zei de dierenverzorger\\n\\nZomer\\n\\ndat de zomer gedaan is\\n\\n**Tip: Hoor je na**\\n\\nde klinker twee\\n\\nverschillende\\n\\nmedeklinkers.\\n\\ndan doe je dus\\n\\nook gewoon\\n\\nverstopt in het bos?\\n\\nles 17\\n\\ngehoord?\\n\\nnaar het pretpark\\n\\nvan de\\n\\nThema', 'roles': {'edUQCUBsomU2qLlEhtqs8EDivP73': 'owner', 'I6KPdRipfkPJMD5jsY8nBRHCjcI3': 'owner'}, 'outlineStatus': 'done', 'extractStatus': 'done', 'outline': ' - **Naam:**\\n   - Taak:\\n      - Woorden net als schroeven, schatten en scheve\\n         - Woorden met sch, schr, str of spr\\n            - Je schrijft wat je hoort. Luister goed, zeker als klanken op elkaar lijken.\\n   - Tip:\\n      - Als je goed luistert, hoor je het verschil: sch, schr, str, spr.\\n         - Woorden met sch schrijf je net als schat.\\n         - Woorden met schr schrijf je net als schreef.\\n         - Woorden met str schrijf je net als straat.\\n         - Woorden met spr schrijf je net als sprak.\\n   - Verenkelen en verdubbelen:\\n      - Ik luister naar\\n         - het einde van\\n            - de klankgroep\\n         - de dierentuin\\n         - de paarden\\n         - de goudvissen\\n         - de muziekdoos\\n         - schrikken\\n         - de zomer\\n         - de schatten\\n         - jammer\\n         - de schoten\\n      - Ik hoor een\\n         - korte klank\\n            - 1 Kijk goed. Bedek het woord en schrijf het in de zin.\\n               - dierentin\\n                  - In de\\n               - Zijn alle\\n                  - por Paardew\\n               - goudvissen\\n                  - Die Muziekdoos\\n               - \"Niet schrikken\\n                  - vertrekken\\n         - lange klank.\\n         - andere klank.\\n      - Ik schrijf\\n         - 1 klinker en\\n            - 2 medeklinkers.\\n         - 1 klinker en\\n            - 1 medeklinker.\\n         - gewoon\\n   - We\\n      - vette vissen\\n         - zonnen tussen\\n            - kwallen\\n      - apen kopen\\n         - cure kleren\\n      - jonge dieven\\n         - worden meestal\\n            - gepakt en\\n            - krijgen flinke\\n               - boetes\\n      - zijn heel sterke dieren.\\n   - Liggen er\\n      - Heb je ook de\\n         - Jammer\\n            - 2 cholen\\n               - vertrekken\\n      - is een reuzenpanda geboren.\\n   - Volgens de weervrouw is dit de warmste\\n      - schatter\\n         - spellingweter 14\\n      - oranje?\\n         - nr:24\\n      - maakt geluid als je ze opent.\\n   - van de olifant!\" zei de dierenverzorger\\n      - Zomer\\n         - dat de zomer gedaan is\\n      - Tip: Hoor je na\\n         - de klinker twee\\n            - verschillende\\n               - medeklinkers.\\n         - dan doe je dus\\n            - ook gewoon\\n      - verstopt in het bos?\\n   - les 17\\n      - gehoord?\\n   - naar het pretpark\\n      - van de\\n         - Thema', 'status': 'done', 'timestamp': DatetimeWithNanoseconds(2023, 10, 16, 19, 47, 3, 317000, tzinfo=datetime.timezone.utc), 'name': 'Spelling'}\n",
      "XBOZI2pkqIAWhP7LLqcH\n",
      "{'language': 'nl', 'description': 'Anissa heeft ARFID, een aangeboren afkeer van eten', 'tags': ['eetstoornis', 'ARFID', 'textuur', 'eten', 'kinderen'], 'quizStatus': 'done', 'summaryStatus': 'done', 'summary': ' Anissa (38) heeft ARFID, een aangeboren afkeer van eten. Ze eet al haar hele leven alleen maar boterhammen met choco. Door haar eetprobleem is ze vroeger veel gepest. Nu ze zelf moeder is, wil ze niet dat haar kinderen hetzelfde meemaken. Ze is blij dat ze eindelijk een naam kan plakken op haar probleem en dat ze niet de enige is die het heeft.', 'roles': {'I6KPdRipfkPJMD5jsY8nBRHCjcI3': 'owner'}, 'outlineStatus': 'done', 'extractStatus': 'done', 'outline': \" - Anissa heeft ARFID, een aangeboren afkeer van eten\\n  - Anissa at als kind alles, tot ze vast voedsel moest leren eten\\n  - Ze blokkeerde zodra ze brokjes proefde\\n  - Haar moeder begreep er niets van en zat met de handen in het haar\\n  - Haar broer en zus aten alles, zij niets\\n  - Keer op keer bleef ze haar hetzelfde voorschotelen als hen, keer op keer weigerde ze te eten\\n  - Ze ging ervoor naar de dokter, dacht dat ze iets verkeerd deed in haar opvoeding\\n  - Maar niemand kon haar, en mij, helpen\\n  - Op de duur gaf ze de strijd op\\n  - Als ik maar iets at\\n  - Andere ouders zeiden dat ze me verwende, dat ze me de dag erna gewoon hetzelfde bord moest voorschotelen als ik niets at\\n  - Maar mijn ouders hebben alles geprobeerd: of het nu ongezonde McDonalds was of gezonde groenten, ik moest het allemaal niet hebben\\n- Ik wil op voorhand weten hoe het eten in mijn mond zal voelen\\n  - Vooral van zachte texturen gruwel ik\\n  - Ook sauzen vind ik omwille van de textuur vies\\n  - En het jammere is dat er in heel veel eten saus zit\\n  - Moussaka of lasagne, spaghetti of vol-au-vent: ik lust het allemaal niet\\n  - Ook soep vind ik vreselijk\\n  - Ik ben letterlijk groot geworden op boterhammen met choco, en ook vandaag is dat nog een belangrijk onderdeel van mijn dieet\\n  - Veertien jaar geleden heb ik mijn huidige lief leren kennen en met hem heb ik grote stappen gezet\\n  - Hij vindt mij geen aansteller\\n  - Samen hebben we geëxperimenteerd: groenten gestoomd, gekookt en gebakken om zo tot een textuur te komen die ik wel lust\\n  - Intussen eet ik al veel meer\\n  - Zelfgemaakte pizza met tomatenpuree en harde groenten kan ik eten\\n  - Ook vis en vlees dat heel hard gebakken is\\n  - Nieuwe dingen leren eten is heel stresserend voor mij, maar ik vind het belangrijk dat ik blijf proberen\\n  - Zeker sinds ik mama ben geworden\\n  - Ik wil echt niet dat mijn kinderen later op dezelfde manier worstelen met eten als ik\\n  - 'Waarom moeten wij dat eten als mama dat zelf niet eet?', vragen ze soms weleens\\n  - Ze zijn nu drie en zes jaar en eten - gelukkig - bijna alles\\n  - Maar als ze, zoals elke kleuter, hun eten eens niet willen opeten, dan panikeer ik\\n  - Als kind ben ik gepest omwille van mijn eetgewoontes, ik wil absoluut niet dat zij dat moeten meemaken\\n- Hoe ouder ik werd, hoe meer ik me begon te schamen\\n  - Kinderfeestjes, verjaardagen van vriendjes, de middagpauze op school: ik leefde onder voortdurende stress dat ik iets zou moeten eten, of dat er een opmerking zou komen op de inhoud van mijn boterhammendoos\\n  - Ik herinner me een CM-kamp waar mijn mama op voorhand had gezegd dat ik een moeilijke eter was\\n  - Ze had in mijn valies appelen, rijstwafels en droge gezonde koeken gestoken en gevraagd of ik daarvan mocht eten\\n  - Maar eens op het kamp had de leiding tegen mij gezegd: hier eten we wat iedereen eet\\n  - Ik had mezelf zo opgepept om naar dat kamp te durven, en heb daar vooral gehuild\\n  - Mijn jeugd is getekend door mijn eetprobleem\\n  - Voor de eerste keer bij de ouders van mijn eerste lief gaan eten, hun blikken zien als ik zei dat ik iets niet lustte...\\n  - Als je niet veel eet, vinden mensen je snel een verwend nest\\n  - Terwijl ik er niet voor kies om dingen niet te lusten\\n  - Ik zou niets liever hebben dan eens zorgeloos naar een restaurant te gaan of op reis geen valies met droge koeken te moeten meenemen\\n  - Maar het lukt me niet\\n  - Ik heb al heel vaak moeten uitleggen wát nu juist het probleem is\\n  - Het heeft te maken met de textuur van eten\\n  - Appelen eet ik wel, tomaten dan weer niet\\n  - Ik moet op voorhand weten hoe het in mijn mond zal voelen\\n- Ik heb me lang alleen gevoeld met mijn probleem\\n  - Nooit ben ik iemand tegengekomen die hetzelfde had als ik\\n  - Tot ik twee jaar geleden op Facebook een getuigenis zag van iemand die net zoals ik niets lust\\n  - Toen ik het verhaal gelezen had,\", 'status': 'done', 'timestamp': DatetimeWithNanoseconds(2023, 10, 17, 17, 15, 42, 539000, tzinfo=datetime.timezone.utc), 'name': 'Anissa'}\n",
      "ZZGfIEb25R0oHnfTOE1i\n",
      "{'language': 'nl', 'description': 'De ontwikkeling van stadstaten had een invloed op alle maatschappelijke domeinen.', 'quizStatus': 'done', 'summaryStatus': 'done', 'summary': 'The development of a city-state had an impact on all social domains. Priest-kings received their power and authority from the gods. They set up laws and a judicial system to maintain order and peace, but did not promote equality. Standard measures and weights were important for the economy. Through Mesopotamia ran a number of important trade routes for the import and export of goods. On the social level, inequality remained in place.', 'roles': {'I6KPdRipfkPJMD5jsY8nBRHCjcI3': 'owner', '0li2Yf3Cf7dTI1Z3IsZbG22n8Y83': 'owner', 'EZguMyHn1HXQoWLB7pyHhyLbkdj1': 'owner'}, 'outlineStatus': 'done', 'extractStatus': 'done', 'outline': ' ## I. The Development of City-States\\n\\n   A. Characteristics of a City-State\\n\\n      1. Larger population\\n      2. Large-scale architecture\\n         - Temples\\n         - Palaces\\n         - Fortifications\\n\\n   B. Role of Rural Areas\\n\\n      1. Food production\\n      2. Support for urban centers\\n\\n   C. Mesopotamia as a Stream Culture\\n\\n      1. Fertile land\\n      2. Two rivers\\n      3. Ideal conditions for development\\n\\n## II. The Influence of City-States on Social Domains\\n\\n   A. Religion\\n\\n      1. Role of the priest-king\\n      2. Construction of temples\\n\\n   B. Law and Order\\n\\n      1. Establishment of laws\\n      2. Enforcement of laws\\n\\n   C. Trade and Commerce\\n\\n      1. Development of crafts\\n      2. Growth of trade\\n      3. Trade routes\\n\\n## III. Conclusion\\n\\n   A. Summary of Key Points\\n\\n   B. Significance of City-States\\n\\n      1. Influence on later civilizations\\n      2. Legacy of Mesopotamia', 'timestamp': DatetimeWithNanoseconds(2023, 10, 7, 21, 53, 31, 401000, tzinfo=datetime.timezone.utc), 'name': 'Stadstaten in het oude Nabije Oosten'}\n",
      "fCCcGZBS1J55BnULBqtS\n",
      "{'language': 'fr', 'description': 'Facture de Brewdog', 'tags': ['facture', 'restaurant', 'boisson'], 'quizStatus': 'done', 'summaryStatus': 'done', 'summary': \" Ce document est une facture de 30,50 EUR pour l'achat de deux bières, une Black Heart 50cl et une Punk* 50cl. La facture a été payée par carte bancaire.\", 'roles': {'I6KPdRipfkPJMD5jsY8nBRHCjcI3': 'owner'}, 'outlineStatus': 'done', 'extractStatus': 'done', 'outline': \" - **Ticket commerçant**\\n   - Informations générales\\n      - POI: 01113883\\n      - Date: 11/10/2023 22:02\\n      - Total: 74,10 EUR\\n   - Informations de paiement\\n      - Bancontact\\n      - Numéro de carte: XXXXXXXXXXXXX6015\\n      - Code d'autorisation: 459E98\\n- **Ticket client**\\n   - Informations générales\\n      - POI: 01055722\\n      - Date: 11/10/2023 18:59\\n      - Total: 30.50 EUR\\n   - Informations de paiement\\n      - Bancontact\\n      - Numéro de carte: XXXXX6015\\n      - Code d'autorisation: 3C86FD\\n- **Ticket de caisse**\\n   - Informations générales\\n      - Date: 11/10/2023 17:02:15\\n      - Total: 30.50 EUR\\n      - TVA: 5.29\\n   - Informations sur les articles\\n      - 1 Black Heart 50cl\\n      - 2 Punk* 50cl\", 'status': 'done', 'timestamp': DatetimeWithNanoseconds(2023, 10, 16, 19, 47, 0, 571000, tzinfo=datetime.timezone.utc), 'name': 'Brewdog'}\n",
      "ryuDSfYglZGV9At6xbDz\n",
      "{'description': 'De Griekse kolonisatie was een periode waarin veel Griekse steden en dorpen zich vestigden in andere delen van het Middellandse Zeegebied.', 'quizStatus': 'done', 'summaryStatus': 'done', 'summary': 'De Griekse kolonisatie vond plaats tussen 800 en 500 v.Chr. en had verschillende oorzaken.\\nEnerzijds was er een tekort aan landbouwgrond in Griekenland, waardoor veel mensen op zoek gingen naar nieuwe gebieden om te wonen en te werken.\\nAnderzijds was er een groot verschil tussen de rijken en de armen in Griekenland, waardoor veel arme mensen geen andere keuze hadden dan te emigreren.\\nDe Griekse kolonisten stichtten nieuwe steden en nederzettingen op de kusten van de Middellandse Zee en de Zwarte Zee.\\nDeze kolonies waren politiek onafhankelijk van de moederstad, maar onderhielden wel banden met elkaar.\\nDe Griekse kolonisatie had een grote invloed op de verspreiding van de Griekse cultuur en de Griekse taal.\\nOok de economie van Griekenland werd gestimuleerd door de kolonisatie.\\nDe Griekse kolonisten brachten nieuwe producten en ideeën mee naar hun nieuwe huizen, en ze wisselden ook veel uit met de lokale bevolking.\\nDe Griekse kolonisatie was een belangrijke stap in de ontwikkeling van de Griekse cultuur en de Griekse beschaving.', 'roles': {'I6KPdRipfkPJMD5jsY8nBRHCjcI3': 'owner', '0li2Yf3Cf7dTI1Z3IsZbG22n8Y83': 'owner', 'EZguMyHn1HXQoWLB7pyHhyLbkdj1': 'owner', 'KNKcHeL2j6eOtUx6u5bQZjc2pr43': 'owner'}, 'outlineStatus': 'done', 'extractStatus': 'done', 'outline': ' 1. Introduction\\n   A. Background of Greek colonization\\n   B. Causes of Greek colonization\\n      1. Overpopulation in Greece\\n      2. Search for new resources\\n      3. Political and social unrest\\n   C. Effects of Greek colonization\\n      1. Spread of Greek culture and language\\n      2. Development of trade and commerce\\n      3. Rise of the Greek city-state\\n2. Greek Colonies in the Mediterranean\\n   A. Western Mediterranean\\n      1. Italy\\n      2. Sicily\\n      3. Southern France\\n      4. Spain\\n   B. Eastern Mediterranean\\n      1. Asia Minor\\n      2. Cyprus\\n      3. Syria\\n      4. Egypt\\n3. Conclusion\\n   A. Summary of the effects of Greek colonization\\n   B. Significance of Greek colonization for the development of Western civilization', 'timestamp': DatetimeWithNanoseconds(2023, 10, 7, 22, 0, 25, 594000, tzinfo=datetime.timezone.utc), 'name': 'De Griekse kolonisatie'}\n",
      "s0t5cD51PAGUk03gwDdE\n",
      "{'language': 'Dutch', 'description': 'Diversiteit is een begrip dat verwijst naar verschillen tussen mensen op vlak van nationaliteit, huidskleur, geloof, seksuele geaardheid, leeftijd, gewoonten, interesses, enz.', 'tags': ['diversiteit', 'discriminatie', 'homofobie', 'racisme', 'seksuele geaardheid', 'subculturen', 'transgender'], 'quizStatus': 'done', 'summaryStatus': 'done', 'summary': '**Diversiteit**\\n\\nDiversiteit is het bestaan van verschillen tussen mensen op vlak van nationaliteit, huidskleur, geloof, seksuele geaardheid, leeftijd, gewoonten, interesses, enz.\\n\\n**Discriminatie**\\n\\nDiscriminatie is het ongelijk behandelen van een persoon of groep op basis van een bepaalde eigenschap zoals afkomst, geslacht of leeftijd.\\n\\n**Homofobie**\\n\\nHomofobie is haat of angst voor personen die zich aangetrokken voelen tot hetzelfde geslacht. Dit leidt soms tot bedreigingen en geweld.\\n\\n**Rasisme**\\n\\nRasisme is een bepaald ras dat zich beter en belangrijker voelt dan een ander ras en dit laat merken door hen te discriminaren.\\n\\n**Seksuele geaardheid**\\n\\nDe aard van je gevoelens en verlangens op vlak van verliefdheid en liefde. Je kan hierbij een voorkeur hebben voor mensen van hetzelfde geslacht, het andere geslacht, beiden of geen van beiden.\\n\\n**Transgender**\\n\\nMensen die door het leven gaan als iemand van het andere geslacht dan waarmee ze geboren zijn, omdat dit voor hen veel natuurlijker aanvoelt.\\n\\n**Subculturen**\\n\\nGroepen jongeren die zich door een bepaalde stijl van muziek, kledij en gedrag willen onderscheiden van de meerderheidscultuur. Zo heb je bijvoorbeeld gabbers, skaters, goths en hipsters.', 'roles': {'I6KPdRipfkPJMD5jsY8nBRHCjcI3': 'owner'}, 'outlineStatus': 'done', 'extractStatus': 'done', 'outline': ' - **Diversiteit**\\n   - Subculturen\\n      - Groepen jongeren die zich door een bepaalde stijl van muziek, kledij en gedrag willen onderscheiden van de meerderheidscultuur.\\n   - Seksuele geaardheid\\n      - De aard van je gevoelens en verlangens op vlak van verliefdheid en liefde. Je kan hierbij een voorkeur hebben voor mensen van hetzelfde geslacht, het andere geslacht, beiden of geen van beiden.\\n   - Transgender\\n      - Mensen die door het leven gaan als iemand van het andere geslacht dan waarmee ze geboren zijn, omdat dit voor hen veel natuurlijker aanvoelt.\\n   - Racisme\\n      - Het ongelijk behandelen van een persoon of groep op basis van een bepaalde eigenschap zoals afkomst, geslacht of leeftijd.\\n   - Homofobie\\n      - Haat of angst voor personen die zich aangetrokken voelen tot hetzelfde geslacht. Dit leidt soms tot bedreigingen en geweld.\\n   - Discriminatie\\n      - De aard van je gevoelens en verlangens op vlak van verliefdheid en liefde. Je kan hierbij een voorkeur hebben voor mensen van hetzelfde geslacht, het andere geslacht, beiden of geen van beiden.', 'status': 'done', 'timestamp': DatetimeWithNanoseconds(2023, 10, 15, 13, 29, 19, 282000, tzinfo=datetime.timezone.utc), 'name': 'Diversiteit'}\n",
      "yjSm0OrJ7BI5YHs2qT7A\n",
      "{'language': 'nl', 'description': 'De Minoïsche en Myceense beschaving', 'quizStatus': 'done', 'summaryStatus': 'done', 'summary': 'The Minoan civilization was a Bronze Age civilization that flourished on the island of Crete and other Aegean islands. The Minoans were a seafaring people who traded with other civilizations around the Mediterranean Sea. They were also skilled craftsmen and artists. The Minoan civilization came to an end around 1450 BC, possibly due to a volcanic eruption on the island of Thera.\\n\\nThe Mycenaean civilization was a Bronze Age civilization that flourished on the Greek mainland. The Mycenaeans were a warlike people who conquered many other civilizations around the Mediterranean Sea. They were also skilled craftsmen and artists. The Mycenaean civilization came to an end around 1200 BC, possibly due to a combination of factors, including natural disasters, war, and economic decline.\\n\\nThe Minoan and Mycenaean civilizations were two of the most important civilizations of the Bronze Age. They both made significant contributions to art, architecture, and technology.', 'roles': {'I6KPdRipfkPJMD5jsY8nBRHCjcI3': 'owner', '0li2Yf3Cf7dTI1Z3IsZbG22n8Y83': 'owner', 'EZguMyHn1HXQoWLB7pyHhyLbkdj1': 'owner'}, 'outlineStatus': 'done', 'extractStatus': 'done', 'outline': ' - **De Minoïsche beschaving**\\n   - Kreta\\n      - De Minoïsche beschaving was een paleizensamenleving. \\n   - Knossos\\n      - Het bekendste paleis op Kreta is dat van Knossos. \\n   - Mythe van de Minotaurus\\n      - Volgens de mythe werd de Minotaurus, een half mens, half stier, geboren uit Pasiphae, de vrouw van koning Minos. \\n   - Ondergang\\n      - De Minoïsche beschaving eindigde rond 1450 v.C. \\n- **De Myceense beschaving**\\n   - Myceners\\n      - Indo-Europese stammen die rond 2000 v.C. het Griekse schiereiland binnentrekken. \\n   - Myceense centra\\n      - Mycene, Pylos en Argos \\n   - Paleiseconomie\\n      - De hele economie draait rond het paleis. \\n   - Myceense schrift\\n      - Lineair B\\n   - Ondergang\\n      - De Myceense beschaving eindigde rond 1200 v.C. ', 'timestamp': DatetimeWithNanoseconds(2023, 10, 17, 17, 15, 25, 5000, tzinfo=datetime.timezone.utc), 'name': 'Minoische en Myceense beschaving'}\n"
     ]
    }
   ],
   "source": [
    "topics = firestore_client.collection(\"topics\").where(filter=FieldFilter(f\"roles.{user_id}\", \"==\", \"owner\")).stream()\n",
    "for topic_ref in topics:\n",
    "    print(topic_ref.id)\n",
    "    print(topic_ref.to_dict())"
   ]
  },
  {
   "cell_type": "code",
   "execution_count": 4,
   "metadata": {},
   "outputs": [],
   "source": [
    "topic_id = \"XBOZI2pkqIAWhP7LLqcH\" # \"E21gEE4MtLDXqz2oXEew\""
   ]
  },
  {
   "cell_type": "code",
   "execution_count": 5,
   "metadata": {},
   "outputs": [
    {
     "name": "stdout",
     "output_type": "stream",
     "text": [
      "verhaal\n",
      "ANISSA HEEFT ARFID, EEN AANGEBOREN AFKEER VAN ETEN\n",
      "Anissa (38): \"Als kind at ik alles, tot ik vast voedsel moest leren\n",
      "eten. Waar ik gepureerde papjes en melk zonder problemen at,\n",
      "blokkeerde ik zodra ik brokjes proefde. Mijn moeder begreep er\n",
      "niets van en zat met de handen in het haar. Mijn broer en zus aten\n",
      "alles, ik niets. Keer op keer bleef ze me hetzelfde voorschotelen\n",
      "als hen, keer op keer weigerde ik te eten. Ze ging ervoor naar de\n",
      "dokter, dacht dat ze iets verkeerd deed in haar opvoeding. Maar\n",
      "niemand kon haar, en mij, helpen. Op de duur gaf ze de strijd op.\n",
      "Als ik maar iets at. Andere ouders zeiden dat ze me verwende, dat\n",
      "ze me de dag erna gewoon hetzelfde bord moest voorschotelen\n",
      "als ik niets at. Maar mijn ouders hebben alles geprobeerd: of het\n",
      "nu ongezonde McDonalds was of gezonde groenten, ik moest het\n",
      "allemaal niet hebben.\n",
      "\"IK WIL OP VOORHAND\n",
      "WETEN HOE HET ETEN\n",
      "IN MIJN MOND ZAL\n",
      "VOELEN. VOORAL VAN\n",
      "ZACHTE TEXTUREN\n",
      "GRUWEL IK”\n",
      "18 Ubelle\n",
      "mijn mond zal voelen. Dat een tomaat hard is vanbuiten en zacht\n",
      "vanbinnen: daar gruwel ik van. Ook sauzen vind ik omwille van de\n",
      "textuur vies. En het jammere is dat er in heel veel eten saus zit.\n",
      "Moussaka of lasagne, spaghetti of vol-au-vent: ik lust het allemaal\n",
      "niet. Ook soep vind ik vreselijk. Ik ben letterlijk groot geworden\n",
      "op boterhammen met choco, en ook vandaag is dat nog een be-\n",
      "langrijk onderdeel van mijn dieet. Veertien jaar geleden heb ik\n",
      "mijn huidige lief leren kennen en met hem heb ik grote stappen\n",
      "gezet. Hij vindt mij geen aansteller. Samen hebben we geëxperi-\n",
      "menteerd: groenten gestoomd, gekookt en gebakken om zo tot\n",
      "een textuur te komen die ik wel lust. Intussen eet ik al veel meer.\n",
      "Zelfgemaakte pizza met tomatenpuree en harde groenten kan ik\n",
      "eten. Ook vis en vlees dat heel hard gebakken is. Nieuwe dingen\n",
      "leren eten is heel stresserend voor mij, maar ik vind het belangrijk\n",
      "dat ik blijf proberen. Zeker sinds ik mama ben geworden. Ik wil\n",
      "echt niet dat mijn kinderen later op dezelfde manier worstelen\n",
      "met eten als ik. 'Waarom moeten wij dat eten als mama dat zelf\n",
      "niet eet?', vragen ze soms weleens. Ze zijn nu drie en zes jaar en\n",
      "eten - gelukkig - bijna alles. Maar als ze, zoals elke kleuter, hun\n",
      "eten eens niet willen opeten, dan panikeer ik. Als kind ben ik ge-\n",
      "pest omwille van mijn eetgewoontes, ik wil absoluut niet dat zij\n",
      "dat moeten meemaken.\n",
      "Hoe ouder ik werd, hoe meer ik me begon te schamen. Kinder-\n",
      "feestjes, verjaardagen van vriendjes, de middagpauze op school:\n",
      "ik leefde onder voortdurende stress dat ik iets zou moeten eten,\n",
      "of dat er een opmerking zou komen op de inhoud van mijn boter-\n",
      "hammendoos. Ik herinner me een CM-kamp waar mijn mama op\n",
      "voorhand had gezegd dat ik een moeilijke eter was. Ze had in mijn\n",
      "valies appelen, rijstwafels en droge gezonde koeken gestoken en\n",
      "gevraagd of ik daarvan mocht eten. Maar eens op het kamp had\n",
      "de leiding tegen mij gezegd: hier eten we wat iedereen eet. Ik had\n",
      "mezelf zo opgepept om naar dat kamp te durven, en heb daar\n",
      "vooral gehuild. Mijn jeugd is getekend door mijn eetprobleem.\n",
      "Voor de eerste keer bij de ouders van mijn eerste lief gaan eten,\n",
      "hun blikken zien als ik zei dat ik iets niet lustte... Als je niet veel\n",
      "eet, vinden mensen je snel een verwend nest. Terwijl ik er niet\n",
      "voor kies om dingen niet te lusten. Ik zou niets liever hebben dan\n",
      "eens zorgeloos naar een restaurant te gaan of op reis geen valies\n",
      "met droge koeken te moeten meenemen. Maar het lukt me niet.\n",
      "Ik heb al heel vaak moeten uitleggen wát nu juist het probleem is.\n",
      "Het heeft te maken met de textuur van eten. Appelen eet ik wel,\n",
      "tomaten dan weer niet. Ik moet op voorhand weten hoe het in\n",
      "Ik heb me lang alleen gevoeld met mijn probleem. Nooit ben ik\n",
      "iemand tegengekomen die hetzelfde had als ik. Tot ik twee jaar\n",
      "geleden op Facebook een getuigenis zag van iemand die net zoals\n",
      "ik niets lust. Toen ik het verhaal gelezen had, ben ik in tranen uit-\n",
      "gebarsten. Eindelijk iemand zoals ik! Het bleek een Nederlandse\n",
      "vrouw te zijn die worstelde met de aandoening 'Arfid' (Avoidant\n",
      "Restrictive Food Intake Disorder. In het Nederlands wordt dat\n",
      "vermijdende/beperkende voedselinname-stoornis, red.) een eet-\n",
      "stoornis waar in Nederland al veel over geschreven is, maar die bij\n",
      "ons nog onbekend is. Het was een ongelooflijke opluchting om\n",
      "eindelijk een naam te kunnen plakken op wat ik heb. Ook voor\n",
      "mijn moeder, want zij kon eindelijk aanvaarden dat zij niets ver-\n",
      "keerds gedaan had. Ik heb toen zelf mijn verhaal gepost in de lot-\n",
      "genotengroep 'Arfid te lijf. Ik leerde dat veel mensen het krijgen\n",
      "door een traumatische ervaring met eten, zoals een verslikking\n",
      "Ook bij mensen met autisme komt het vaker voor. Maar net zo\n",
      "goed zijn er mensen die, zoals ik, een aangeboren afkeer hebben\n",
      "van eten. Ik leerde dat ik kan blijven oefenen, en dat er therap\n",
      "voor is. Maar vooral: dat ik niet de enige ben die het heeft. Wa\n",
      "een opluchting.\"\n",
      "WIL JIJ JOUW VERHAAL VERTELLEN?\n",
      "Mail naar mijnverhaal@libelle.be of schrijf naar\n",
      "Libelle - Mijn verhaal, Raketstraat 50 bus 2, 1130 Brussel.\n",
      "We zijn altijd discreet met je gegevens.\n"
     ]
    }
   ],
   "source": [
    "files = firestore_client.collection(f\"topics/{topic_id}/files\").stream()\n",
    "\n",
    "fulltext = \"\"\n",
    "for document in files:\n",
    "    fulltext += document.get(\"text\")\n",
    "\n",
    "print(fulltext)"
   ]
  },
  {
   "cell_type": "code",
   "execution_count": 6,
   "metadata": {},
   "outputs": [],
   "source": [
    "from langchain.text_splitter import RecursiveCharacterTextSplitter"
   ]
  },
  {
   "cell_type": "code",
   "execution_count": 7,
   "metadata": {},
   "outputs": [
    {
     "name": "stdout",
     "output_type": "stream",
     "text": [
      "['verhaal\\nANISSA HEEFT ARFID, EEN AANGEBOREN AFKEER VAN ETEN\\nAnissa (38): \"Als kind at ik alles, tot ik vast voedsel moest leren\\neten. Waar ik gepureerde papjes en melk zonder problemen at,\\nblokkeerde ik zodra ik brokjes proefde. Mijn moeder begreep er\\nniets van en zat met de handen in het haar. Mijn broer en zus aten\\nalles, ik niets. Keer op keer bleef ze me hetzelfde voorschotelen\\nals hen, keer op keer weigerde ik te eten. Ze ging ervoor naar de\\ndokter, dacht dat ze iets verkeerd deed in haar opvoeding. Maar\\nniemand kon haar, en mij, helpen. Op de duur gaf ze de strijd op.\\nAls ik maar iets at. Andere ouders zeiden dat ze me verwende, dat\\nze me de dag erna gewoon hetzelfde bord moest voorschotelen\\nals ik niets at. Maar mijn ouders hebben alles geprobeerd: of het\\nnu ongezonde McDonalds was of gezonde groenten, ik moest het\\nallemaal niet hebben.\\n\"IK WIL OP VOORHAND\\nWETEN HOE HET ETEN\\nIN MIJN MOND ZAL\\nVOELEN. VOORAL VAN\\nZACHTE TEXTUREN\\nGRUWEL IK”\\n18 Ubelle\\nmijn mond zal voelen. Dat een tomaat hard is vanbuiten en zacht\\nvanbinnen: daar gruwel ik van. Ook sauzen vind ik omwille van de\\ntextuur vies. En het jammere is dat er in heel veel eten saus zit.\\nMoussaka of lasagne, spaghetti of vol-au-vent: ik lust het allemaal\\nniet. Ook soep vind ik vreselijk. Ik ben letterlijk groot geworden\\nop boterhammen met choco, en ook vandaag is dat nog een be-\\nlangrijk onderdeel van mijn dieet. Veertien jaar geleden heb ik\\nmijn huidige lief leren kennen en met hem heb ik grote stappen\\ngezet. Hij vindt mij geen aansteller. Samen hebben we geëxperi-\\nmenteerd: groenten gestoomd, gekookt en gebakken om zo tot\\neen textuur te komen die ik wel lust. Intussen eet ik al veel meer.\\nZelfgemaakte pizza met tomatenpuree en harde groenten kan ik\\neten. Ook vis en vlees dat heel hard gebakken is. Nieuwe dingen\\nleren eten is heel stresserend voor mij, maar ik vind het belangrijk\\ndat ik blijf proberen. Zeker sinds ik mama ben geworden. Ik wil\\necht niet dat mijn kinderen later op dezelfde manier worstelen\\nmet eten als ik. \\'Waarom moeten wij dat eten als mama dat zelf\\nniet eet?\\', vragen ze soms weleens. Ze zijn nu drie en zes jaar en\\neten - gelukkig - bijna alles. Maar als ze, zoals elke kleuter, hun\\neten eens niet willen opeten, dan panikeer ik. Als kind ben ik ge-\\npest omwille van mijn eetgewoontes, ik wil absoluut niet dat zij\\ndat moeten meemaken.\\nHoe ouder ik werd, hoe meer ik me begon te schamen. Kinder-\\nfeestjes, verjaardagen van vriendjes, de middagpauze op school:\\nik leefde onder voortdurende stress dat ik iets zou moeten eten,\\nof dat er een opmerking zou komen op de inhoud van mijn boter-\\nhammendoos. Ik herinner me een CM-kamp waar mijn mama op\\nvoorhand had gezegd dat ik een moeilijke eter was. Ze had in mijn\\nvalies appelen, rijstwafels en droge gezonde koeken gestoken en\\ngevraagd of ik daarvan mocht eten. Maar eens op het kamp had\\nde leiding tegen mij gezegd: hier eten we wat iedereen eet. Ik had\\nmezelf zo opgepept om naar dat kamp te durven, en heb daar\\nvooral gehuild. Mijn jeugd is getekend door mijn eetprobleem.\\nVoor de eerste keer bij de ouders van mijn eerste lief gaan eten,\\nhun blikken zien als ik zei dat ik iets niet lustte... Als je niet veel\\neet, vinden mensen je snel een verwend nest. Terwijl ik er niet\\nvoor kies om dingen niet te lusten. Ik zou niets liever hebben dan\\neens zorgeloos naar een restaurant te gaan of op reis geen valies\\nmet droge koeken te moeten meenemen. Maar het lukt me niet.\\nIk heb al heel vaak moeten uitleggen wát nu juist het probleem is.\\nHet heeft te maken met de textuur van eten. Appelen eet ik wel,\\ntomaten dan weer niet. Ik moet op voorhand weten hoe het in\\nIk heb me lang alleen gevoeld met mijn probleem. Nooit ben ik\\niemand tegengekomen die hetzelfde had als ik. Tot ik twee jaar\\ngeleden op Facebook een getuigenis zag van iemand die net zoals\\nik niets lust. Toen ik het verhaal gelezen had, ben ik in tranen uit-\\ngebarsten. Eindelijk iemand zoals ik! Het bleek een Nederlandse\\nvrouw te zijn die worstelde met de aandoening \\'Arfid\\' (Avoidant\\nRestrictive Food Intake Disorder. In het Nederlands wordt dat\\nvermijdende/beperkende voedselinname-stoornis, red.) een eet-\\nstoornis waar in Nederland al veel over geschreven is, maar die bij\\nons nog onbekend is. Het was een ongelooflijke opluchting om\\neindelijk een naam te kunnen plakken op wat ik heb. Ook voor\\nmijn moeder, want zij kon eindelijk aanvaarden dat zij niets ver-\\nkeerds gedaan had. Ik heb toen zelf mijn verhaal gepost in de lot-\\ngenotengroep \\'Arfid te lijf. Ik leerde dat veel mensen het krijgen\\ndoor een traumatische ervaring met eten, zoals een verslikking\\nOok bij mensen met autisme komt het vaker voor. Maar net zo\\ngoed zijn er mensen die, zoals ik, een aangeboren afkeer hebben\\nvan eten. Ik leerde dat ik kan blijven oefenen, en dat er therap\\nvoor is. Maar vooral: dat ik niet de enige ben die het heeft. Wa\\neen opluchting.\"\\nWIL JIJ JOUW VERHAAL VERTELLEN?\\nMail naar mijnverhaal@libelle.be of schrijf naar\\nLibelle - Mijn verhaal, Raketstraat 50 bus 2, 1130 Brussel.\\nWe zijn altijd discreet met je gegevens.']\n",
      "1\n"
     ]
    }
   ],
   "source": [
    "text_splitter = RecursiveCharacterTextSplitter(chunk_size=16000, chunk_overlap=50)\n",
    "texts = text_splitter.split_text(fulltext)\n",
    "print(texts)\n",
    "print(texts.__len__())"
   ]
  },
  {
   "cell_type": "code",
   "execution_count": 8,
   "metadata": {},
   "outputs": [],
   "source": [
    "vertexai.init(project=\"schoolscan-4c8d8\", location=\"us-central1\")"
   ]
  },
  {
   "cell_type": "code",
   "execution_count": 9,
   "metadata": {},
   "outputs": [],
   "source": [
    "llm = VertexAI(\n",
    "            model_name=\"text-bison\",\n",
    "            max_output_tokens=2048,\n",
    "            temperature=0.2,\n",
    "            top_p=0.7,\n",
    "            top_k=40,\n",
    "            n=1,\n",
    "        )"
   ]
  },
  {
   "cell_type": "code",
   "execution_count": 10,
   "metadata": {},
   "outputs": [],
   "source": [
    "class Question(BaseModel):\n",
    "    \"\"\"\n",
    "    `questions` children\n",
    "    \"\"\"\n",
    "\n",
    "    type: str = Field(\n",
    "        description=\"the type of question (multiple_choice, multiple_choice_multi, connect_terms or free_text)\"\n",
    "    )\n",
    "    question: Optional[str] = Field(description=\"the question\")\n",
    "    choices: Optional[List[str]] = Field(\n",
    "        description=\"the choices for a multiple_choice question or a multiple_choice_multi question (only include field for multiple_choice questions), should have at least 3 values (choices should have meaning and be short and concise)\"\n",
    "    )\n",
    "    left_column: Optional[List[str]] = Field(\n",
    "        description=\"the left column for a connect_terms question (only include field for connect_terms questions), should have at least 3 values (choices should have meaning and be short and concise)\"\n",
    "    )\n",
    "    right_column: Optional[List[str]] = Field(\n",
    "        description=\"the right column for a connect_terms question (only include field for connect_terms questions), should have at least 3 values (same amount as left column) (choices should have meaning and be short and concise)\"\n",
    "    )\n",
    "    answer: str = Field(\n",
    "        description=\"the exact correct answer in case of multiple_choice and free_text. in case of connect_terms, it's the combination of the index of the left and write column with a hyphen, separated by a comma eg. '1-3,2-2,3-1'. in case of multiple_choice_multi, it's all correct answers separated by a comma eg. 'first correct answer,second correct answer'. this field is always required!\"\n",
    "    )\n",
    "\n",
    "class TopicQuestions(BaseModel):\n",
    "    questions: List[Question] = Field(default=[], description=\"the list of questions\")"
   ]
  },
  {
   "cell_type": "code",
   "execution_count": 11,
   "metadata": {},
   "outputs": [],
   "source": [
    "template = \"\"\"\n",
    "Generate a quiz with 5 questions that test a reader's comprehension of the following text.\n",
    "The quiz you generate will have 5 question items and you can have 4 types of question items: \n",
    "    1.Multiple choice (multiple_choice): provide at least 3 choices per question and provide the correct answer (exact).\n",
    "    2.Multiple choice with multiple answers (multiple_choice_multi): provide at least 3 choices per question and provide the correct answers, separated by commas (a potential correct value for answer could be 'foo,bar,test').\n",
    "    3.Connect relevant terms (connect_terms): at least 3 terms in a random order in 1 column and at least 3 terms in a random order in the other column. The person that takes the test must select a matching term in each column.\n",
    "    4.A free text question (free_text). Make sure to ask a question of which the answer can be found in the provided text, and make sure to provide the correct answer in the answer field. 'What do you think of ...?' is not a good question! There should be maximum 1 question of this type.\n",
    "For each question, you also need to provide the correct answer. Make sure that the correct answer is exactly the same as the value of the choice (for connect_terms it should format a string with the indexes of the answers for each column '1-3,2-2,3-1').\n",
    "The question should be concise and clear. The question itself should not list possible choices. The quiz should be sufficiently difficult and should contain at least 1 of each question type.\n",
    "Questions, choices and answers should always be short and concise: answers should never be more than 3 words. The questions and answers should only take the text into account, nothing else.\n",
    "\n",
    "The values of the name, description, questions, choices, answers should all be in the same language as the text.\n",
    "Make sure that all output is in the same language as the text (all field values).\n",
    "\n",
    "{format_instructions}\n",
    "\n",
    "Text:\n",
    "{input}\n",
    "\n",
    "Json:\"\"\""
   ]
  },
  {
   "cell_type": "code",
   "execution_count": 12,
   "metadata": {},
   "outputs": [
    {
     "name": "stdout",
     "output_type": "stream",
     "text": [
      "\n",
      "Generate a quiz with 5 questions that test a reader's comprehension of the following text.\n",
      "The quiz you generate will have 5 question items and you can have 4 types of question items: \n",
      "    1.Multiple choice (multiple_choice): provide at least 3 choices per question and provide the correct answer (exact).\n",
      "    2.Multiple choice with multiple answers (multiple_choice_multi): provide at least 3 choices per question and provide the correct answers, separated by commas (a potential correct value for answer could be 'foo,bar,test').\n",
      "    3.Connect relevant terms (connect_terms): at least 3 terms in a random order in 1 column and at least 3 terms in a random order in the other column. The person that takes the test must select a matching term in each column.\n",
      "    4.A free text question (free_text). Make sure to ask a question of which the answer can be found in the provided text, and make sure to provide the correct answer in the answer field. 'What do you think of ...?' is not a good question! There should be maximum 1 question of this type.\n",
      "For each question, you also need to provide the correct answer. Make sure that the correct answer is exactly the same as the value of the choice (for connect_terms it should format a string with the indexes of the answers for each column '1-3,2-2,3-1').\n",
      "The question should be concise and clear. The question itself should not list possible choices. The quiz should be sufficiently difficult and should contain at least 1 of each question type.\n",
      "Questions, choices and answers should always be short and concise: answers should never be more than 3 words. The questions and answers should only take the text into account, nothing else.\n",
      "\n",
      "The values of the name, description, questions, choices, answers should all be in the same language as the text.\n",
      "Make sure that all output is in the same language as the text (all field values).\n",
      "\n",
      "The output should be formatted as a JSON instance that conforms to the JSON schema below.\n",
      "\n",
      "As an example, for the schema {\"properties\": {\"foo\": {\"title\": \"Foo\", \"description\": \"a list of strings\", \"type\": \"array\", \"items\": {\"type\": \"string\"}}}, \"required\": [\"foo\"]}\n",
      "the object {\"foo\": [\"bar\", \"baz\"]} is a well-formatted instance of the schema. The object {\"properties\": {\"foo\": [\"bar\", \"baz\"]}} is not well-formatted.\n",
      "\n",
      "Here is the output schema:\n",
      "```\n",
      "{\"properties\": {\"questions\": {\"title\": \"Questions\", \"description\": \"the list of questions\", \"default\": [], \"type\": \"array\", \"items\": {\"$ref\": \"#/definitions/Question\"}}}, \"definitions\": {\"Question\": {\"title\": \"Question\", \"description\": \"`questions` children\", \"type\": \"object\", \"properties\": {\"type\": {\"title\": \"Type\", \"description\": \"the type of question (multiple_choice, multiple_choice_multi, connect_terms or free_text)\", \"type\": \"string\"}, \"question\": {\"title\": \"Question\", \"description\": \"the question\", \"type\": \"string\"}, \"choices\": {\"title\": \"Choices\", \"description\": \"the choices for a multiple_choice question or a multiple_choice_multi question (only include field for multiple_choice questions), should have at least 3 values (choices should have meaning and be short and concise)\", \"type\": \"array\", \"items\": {\"type\": \"string\"}}, \"left_column\": {\"title\": \"Left Column\", \"description\": \"the left column for a connect_terms question (only include field for connect_terms questions), should have at least 3 values (choices should have meaning and be short and concise)\", \"type\": \"array\", \"items\": {\"type\": \"string\"}}, \"right_column\": {\"title\": \"Right Column\", \"description\": \"the right column for a connect_terms question (only include field for connect_terms questions), should have at least 3 values (same amount as left column) (choices should have meaning and be short and concise)\", \"type\": \"array\", \"items\": {\"type\": \"string\"}}, \"answer\": {\"title\": \"Answer\", \"description\": \"the exact correct answer in case of multiple_choice and free_text. in case of connect_terms, it's the combination of the index of the left and write column with a hyphen, separated by a comma eg. '1-3,2-2,3-1'. in case of multiple_choice_multi, it's all correct answers separated by a comma eg. 'first correct answer,second correct answer'. this field is always required!\", \"type\": \"string\"}}, \"required\": [\"type\", \"answer\"]}}}\n",
      "```\n",
      "\n",
      "Text:\n",
      "verhaal\n",
      "ANISSA HEEFT ARFID, EEN AANGEBOREN AFKEER VAN ETEN\n",
      "Anissa (38): \"Als kind at ik alles, tot ik vast voedsel moest leren\n",
      "eten. Waar ik gepureerde papjes en melk zonder problemen at,\n",
      "blokkeerde ik zodra ik brokjes proefde. Mijn moeder begreep er\n",
      "niets van en zat met de handen in het haar. Mijn broer en zus aten\n",
      "alles, ik niets. Keer op keer bleef ze me hetzelfde voorschotelen\n",
      "als hen, keer op keer weigerde ik te eten. Ze ging ervoor naar de\n",
      "dokter, dacht dat ze iets verkeerd deed in haar opvoeding. Maar\n",
      "niemand kon haar, en mij, helpen. Op de duur gaf ze de strijd op.\n",
      "Als ik maar iets at. Andere ouders zeiden dat ze me verwende, dat\n",
      "ze me de dag erna gewoon hetzelfde bord moest voorschotelen\n",
      "als ik niets at. Maar mijn ouders hebben alles geprobeerd: of het\n",
      "nu ongezonde McDonalds was of gezonde groenten, ik moest het\n",
      "allemaal niet hebben.\n",
      "\"IK WIL OP VOORHAND\n",
      "WETEN HOE HET ETEN\n",
      "IN MIJN MOND ZAL\n",
      "VOELEN. VOORAL VAN\n",
      "ZACHTE TEXTUREN\n",
      "GRUWEL IK”\n",
      "18 Ubelle\n",
      "mijn mond zal voelen. Dat een tomaat hard is vanbuiten en zacht\n",
      "vanbinnen: daar gruwel ik van. Ook sauzen vind ik omwille van de\n",
      "textuur vies. En het jammere is dat er in heel veel eten saus zit.\n",
      "Moussaka of lasagne, spaghetti of vol-au-vent: ik lust het allemaal\n",
      "niet. Ook soep vind ik vreselijk. Ik ben letterlijk groot geworden\n",
      "op boterhammen met choco, en ook vandaag is dat nog een be-\n",
      "langrijk onderdeel van mijn dieet. Veertien jaar geleden heb ik\n",
      "mijn huidige lief leren kennen en met hem heb ik grote stappen\n",
      "gezet. Hij vindt mij geen aansteller. Samen hebben we geëxperi-\n",
      "menteerd: groenten gestoomd, gekookt en gebakken om zo tot\n",
      "een textuur te komen die ik wel lust. Intussen eet ik al veel meer.\n",
      "Zelfgemaakte pizza met tomatenpuree en harde groenten kan ik\n",
      "eten. Ook vis en vlees dat heel hard gebakken is. Nieuwe dingen\n",
      "leren eten is heel stresserend voor mij, maar ik vind het belangrijk\n",
      "dat ik blijf proberen. Zeker sinds ik mama ben geworden. Ik wil\n",
      "echt niet dat mijn kinderen later op dezelfde manier worstelen\n",
      "met eten als ik. 'Waarom moeten wij dat eten als mama dat zelf\n",
      "niet eet?', vragen ze soms weleens. Ze zijn nu drie en zes jaar en\n",
      "eten - gelukkig - bijna alles. Maar als ze, zoals elke kleuter, hun\n",
      "eten eens niet willen opeten, dan panikeer ik. Als kind ben ik ge-\n",
      "pest omwille van mijn eetgewoontes, ik wil absoluut niet dat zij\n",
      "dat moeten meemaken.\n",
      "Hoe ouder ik werd, hoe meer ik me begon te schamen. Kinder-\n",
      "feestjes, verjaardagen van vriendjes, de middagpauze op school:\n",
      "ik leefde onder voortdurende stress dat ik iets zou moeten eten,\n",
      "of dat er een opmerking zou komen op de inhoud van mijn boter-\n",
      "hammendoos. Ik herinner me een CM-kamp waar mijn mama op\n",
      "voorhand had gezegd dat ik een moeilijke eter was. Ze had in mijn\n",
      "valies appelen, rijstwafels en droge gezonde koeken gestoken en\n",
      "gevraagd of ik daarvan mocht eten. Maar eens op het kamp had\n",
      "de leiding tegen mij gezegd: hier eten we wat iedereen eet. Ik had\n",
      "mezelf zo opgepept om naar dat kamp te durven, en heb daar\n",
      "vooral gehuild. Mijn jeugd is getekend door mijn eetprobleem.\n",
      "Voor de eerste keer bij de ouders van mijn eerste lief gaan eten,\n",
      "hun blikken zien als ik zei dat ik iets niet lustte... Als je niet veel\n",
      "eet, vinden mensen je snel een verwend nest. Terwijl ik er niet\n",
      "voor kies om dingen niet te lusten. Ik zou niets liever hebben dan\n",
      "eens zorgeloos naar een restaurant te gaan of op reis geen valies\n",
      "met droge koeken te moeten meenemen. Maar het lukt me niet.\n",
      "Ik heb al heel vaak moeten uitleggen wát nu juist het probleem is.\n",
      "Het heeft te maken met de textuur van eten. Appelen eet ik wel,\n",
      "tomaten dan weer niet. Ik moet op voorhand weten hoe het in\n",
      "Ik heb me lang alleen gevoeld met mijn probleem. Nooit ben ik\n",
      "iemand tegengekomen die hetzelfde had als ik. Tot ik twee jaar\n",
      "geleden op Facebook een getuigenis zag van iemand die net zoals\n",
      "ik niets lust. Toen ik het verhaal gelezen had, ben ik in tranen uit-\n",
      "gebarsten. Eindelijk iemand zoals ik! Het bleek een Nederlandse\n",
      "vrouw te zijn die worstelde met de aandoening 'Arfid' (Avoidant\n",
      "Restrictive Food Intake Disorder. In het Nederlands wordt dat\n",
      "vermijdende/beperkende voedselinname-stoornis, red.) een eet-\n",
      "stoornis waar in Nederland al veel over geschreven is, maar die bij\n",
      "ons nog onbekend is. Het was een ongelooflijke opluchting om\n",
      "eindelijk een naam te kunnen plakken op wat ik heb. Ook voor\n",
      "mijn moeder, want zij kon eindelijk aanvaarden dat zij niets ver-\n",
      "keerds gedaan had. Ik heb toen zelf mijn verhaal gepost in de lot-\n",
      "genotengroep 'Arfid te lijf. Ik leerde dat veel mensen het krijgen\n",
      "door een traumatische ervaring met eten, zoals een verslikking\n",
      "Ook bij mensen met autisme komt het vaker voor. Maar net zo\n",
      "goed zijn er mensen die, zoals ik, een aangeboren afkeer hebben\n",
      "van eten. Ik leerde dat ik kan blijven oefenen, en dat er therap\n",
      "voor is. Maar vooral: dat ik niet de enige ben die het heeft. Wa\n",
      "een opluchting.\"\n",
      "WIL JIJ JOUW VERHAAL VERTELLEN?\n",
      "Mail naar mijnverhaal@libelle.be of schrijf naar\n",
      "Libelle - Mijn verhaal, Raketstraat 50 bus 2, 1130 Brussel.\n",
      "We zijn altijd discreet met je gegevens.\n",
      "\n",
      "Json:\n"
     ]
    }
   ],
   "source": [
    "output_parser = PydanticOutputParser(pydantic_object=TopicQuestions)\n",
    "format_instructions = output_parser.get_format_instructions()\n",
    "prompt = PromptTemplate(\n",
    "    input_variables=[\"input\"],\n",
    "    partial_variables={\"format_instructions\": format_instructions},\n",
    "    template=template,\n",
    ")\n",
    "final_prompt = prompt.format(input=fulltext)\n",
    "print(final_prompt)"
   ]
  },
  {
   "cell_type": "code",
   "execution_count": 13,
   "metadata": {},
   "outputs": [
    {
     "name": "stdout",
     "output_type": "stream",
     "text": [
      " {\"questions\": [{\"type\": \"multiple_choice\", \"question\": \"Wat is de naam van de eetstoornis waar Anissa aan lijdt?\", \"choices\": [\"Arfid\", \"Anorexia nervosa\", \"Boulimia nervosa\", \"Pica\"], \"answer\": \"Arfid\"}, {\"type\": \"multiple_choice_multi\", \"question\": \"Welke van de volgende voedingsmiddelen lust Anissa wel?\", \"choices\": [\"Appels\", \"Tomaten\", \"Pizza\", \"Soep\", \"Vis\", \"Vlees\"], \"answer\": \"Appels,Pizza,Vis,Vlees\"}, {\"type\": \"connect_terms\", \"question\": \"Verbind de eetmomenten met de bijbehorende maaltijden\", \"left_column\": [\"ontbijt\", \"lunch\", \"avondeten\"], \"right_column\": [\"boterhammen met choco\", \"pizza\", \"vol-au-vent\"], \"answer\": \"1-1,2-3,3-2\"}, {\"type\": \"multiple_choice\", \"question\": \"Wat is de reden dat Anissa moeite heeft met eten?\", \"choices\": [\"Ze heeft een trauma met eten gehad\", \"Ze heeft autisme\", \"Ze heeft een aangeboren afkeer van eten\", \"Ze is verwend\"], \"answer\": \"Ze heeft een aangeboren afkeer van eten\"}, {\"type\": \"free_text\", \"question\": \"Wat is de naam van de Facebookgroep waar Anissa lotgenoten heeft gevonden?\", \"answer\": \"Arfid te lijf\"}]}\n"
     ]
    }
   ],
   "source": [
    "res_text = llm(final_prompt)\n",
    "print(res_text)\n",
    "res = output_parser.parse(res_text)"
   ]
  },
  {
   "cell_type": "code",
   "execution_count": 14,
   "metadata": {},
   "outputs": [],
   "source": [
    "more_template = \"\"\"\n",
    "Generate a quiz with 5 questions that test a reader's comprehension of the following text.\n",
    "The quiz you generate will have 5 question items and you can have 4 types of question items: \n",
    "    1.Multiple choice (multiple_choice): provide at least 3 choices per question and provide the correct answer (exact).\n",
    "    2.Multiple choice with multiple answers (multiple_choice_multi): provide at least 3 choices per question and provide the correct answers, separated by commas (a potential correct value for answer could be 'foo,bar,test').\n",
    "    3.Connect relevant terms (connect_terms): at least 3 terms in a random order in 1 column and at least 3 terms in a random order in the other column. The person that takes the test must select a matching term in each column.\n",
    "    4.A free text question (free_text). Make sure to ask a question of which the answer can be found in the provided text, and make sure to provide the correct answer in the answer field. 'What do you think of ...?' is not a good question! There should be maximum 1 question of this type.\n",
    "For each question, you also need to provide the correct answer. Make sure that the correct answer is exactly the same as the value of the choice (for connect_terms it should format a string with the indexes of the answers for each column '1-3,2-2,3-1').\n",
    "The question should be concise and clear. The question itself should not list possible choices. The quiz should be sufficiently difficult and should contain at least 1 of each question type.\n",
    "Questions, choices and answers should always be short and concise: answers should never be more than 3 words. The questions and answers should only take the text into account, nothing else.\n",
    "\n",
    "The values of the name, description, questions, choices, answers should all be in the same language as the text.\n",
    "Make sure that all output is in the same language as the text (all field values).\n",
    "\n",
    "{format_instructions}\n",
    "\n",
    "Text:\n",
    "{input}\n",
    "\n",
    "Json:\"\"\""
   ]
  },
  {
   "cell_type": "code",
   "execution_count": 15,
   "metadata": {},
   "outputs": [
    {
     "ename": "ValidationError",
     "evalue": "1 validation error for PromptTemplate\n__root__\n  Invalid prompt schema; check for mismatched or missing input parameters. {'existing_questions'} (type=value_error)",
     "output_type": "error",
     "traceback": [
      "\u001b[0;31m---------------------------------------------------------------------------\u001b[0m",
      "\u001b[0;31mValidationError\u001b[0m                           Traceback (most recent call last)",
      "\u001b[1;32m/home/nikoraes/dev/quizmonke/functions/test/generate_quiz_test.ipynb Cell 15\u001b[0m line \u001b[0;36m2\n\u001b[1;32m      <a href='vscode-notebook-cell://ssh-remote%2Bnuc.local/home/nikoraes/dev/quizmonke/functions/test/generate_quiz_test.ipynb#X36sdnNjb2RlLXJlbW90ZQ%3D%3D?line=0'>1</a>\u001b[0m output_parser \u001b[39m=\u001b[39m PydanticOutputParser(pydantic_object\u001b[39m=\u001b[39mTopicQuestions)\n\u001b[0;32m----> <a href='vscode-notebook-cell://ssh-remote%2Bnuc.local/home/nikoraes/dev/quizmonke/functions/test/generate_quiz_test.ipynb#X36sdnNjb2RlLXJlbW90ZQ%3D%3D?line=1'>2</a>\u001b[0m new_prompt \u001b[39m=\u001b[39m PromptTemplate(\n\u001b[1;32m      <a href='vscode-notebook-cell://ssh-remote%2Bnuc.local/home/nikoraes/dev/quizmonke/functions/test/generate_quiz_test.ipynb#X36sdnNjb2RlLXJlbW90ZQ%3D%3D?line=2'>3</a>\u001b[0m     input_variables\u001b[39m=\u001b[39;49m[\u001b[39m\"\u001b[39;49m\u001b[39minput\u001b[39;49m\u001b[39m\"\u001b[39;49m, \u001b[39m\"\u001b[39;49m\u001b[39mexisting_questions\u001b[39;49m\u001b[39m\"\u001b[39;49m],\n\u001b[1;32m      <a href='vscode-notebook-cell://ssh-remote%2Bnuc.local/home/nikoraes/dev/quizmonke/functions/test/generate_quiz_test.ipynb#X36sdnNjb2RlLXJlbW90ZQ%3D%3D?line=3'>4</a>\u001b[0m     partial_variables\u001b[39m=\u001b[39;49m{\u001b[39m\"\u001b[39;49m\u001b[39mformat_instructions\u001b[39;49m\u001b[39m\"\u001b[39;49m: format_instructions},\n\u001b[1;32m      <a href='vscode-notebook-cell://ssh-remote%2Bnuc.local/home/nikoraes/dev/quizmonke/functions/test/generate_quiz_test.ipynb#X36sdnNjb2RlLXJlbW90ZQ%3D%3D?line=4'>5</a>\u001b[0m     template\u001b[39m=\u001b[39;49mmore_template,\n\u001b[1;32m      <a href='vscode-notebook-cell://ssh-remote%2Bnuc.local/home/nikoraes/dev/quizmonke/functions/test/generate_quiz_test.ipynb#X36sdnNjb2RlLXJlbW90ZQ%3D%3D?line=5'>6</a>\u001b[0m )\n\u001b[1;32m      <a href='vscode-notebook-cell://ssh-remote%2Bnuc.local/home/nikoraes/dev/quizmonke/functions/test/generate_quiz_test.ipynb#X36sdnNjb2RlLXJlbW90ZQ%3D%3D?line=6'>7</a>\u001b[0m final_new_prompt \u001b[39m=\u001b[39m new_prompt\u001b[39m.\u001b[39mformat(\u001b[39minput\u001b[39m\u001b[39m=\u001b[39mfulltext, existing_questions\u001b[39m=\u001b[39mres_text)\n\u001b[1;32m      <a href='vscode-notebook-cell://ssh-remote%2Bnuc.local/home/nikoraes/dev/quizmonke/functions/test/generate_quiz_test.ipynb#X36sdnNjb2RlLXJlbW90ZQ%3D%3D?line=7'>8</a>\u001b[0m \u001b[39mprint\u001b[39m(final_new_prompt)\n",
      "File \u001b[0;32m~/.local/lib/python3.11/site-packages/langchain/load/serializable.py:97\u001b[0m, in \u001b[0;36mSerializable.__init__\u001b[0;34m(self, **kwargs)\u001b[0m\n\u001b[1;32m     96\u001b[0m \u001b[39mdef\u001b[39;00m \u001b[39m__init__\u001b[39m(\u001b[39mself\u001b[39m, \u001b[39m*\u001b[39m\u001b[39m*\u001b[39mkwargs: Any) \u001b[39m-\u001b[39m\u001b[39m>\u001b[39m \u001b[39mNone\u001b[39;00m:\n\u001b[0;32m---> 97\u001b[0m     \u001b[39msuper\u001b[39;49m()\u001b[39m.\u001b[39;49m\u001b[39m__init__\u001b[39;49m(\u001b[39m*\u001b[39;49m\u001b[39m*\u001b[39;49mkwargs)\n\u001b[1;32m     98\u001b[0m     \u001b[39mself\u001b[39m\u001b[39m.\u001b[39m_lc_kwargs \u001b[39m=\u001b[39m kwargs\n",
      "File \u001b[0;32m~/.local/lib/python3.11/site-packages/pydantic/v1/main.py:341\u001b[0m, in \u001b[0;36mBaseModel.__init__\u001b[0;34m(__pydantic_self__, **data)\u001b[0m\n\u001b[1;32m    339\u001b[0m values, fields_set, validation_error \u001b[39m=\u001b[39m validate_model(__pydantic_self__\u001b[39m.\u001b[39m\u001b[39m__class__\u001b[39m, data)\n\u001b[1;32m    340\u001b[0m \u001b[39mif\u001b[39;00m validation_error:\n\u001b[0;32m--> 341\u001b[0m     \u001b[39mraise\u001b[39;00m validation_error\n\u001b[1;32m    342\u001b[0m \u001b[39mtry\u001b[39;00m:\n\u001b[1;32m    343\u001b[0m     object_setattr(__pydantic_self__, \u001b[39m'\u001b[39m\u001b[39m__dict__\u001b[39m\u001b[39m'\u001b[39m, values)\n",
      "\u001b[0;31mValidationError\u001b[0m: 1 validation error for PromptTemplate\n__root__\n  Invalid prompt schema; check for mismatched or missing input parameters. {'existing_questions'} (type=value_error)"
     ]
    }
   ],
   "source": [
    "output_parser = PydanticOutputParser(pydantic_object=TopicQuestions)\n",
    "new_prompt = PromptTemplate(\n",
    "    input_variables=[\"input\", \"existing_questions\"],\n",
    "    partial_variables={\"format_instructions\": format_instructions},\n",
    "    template=more_template,\n",
    ")\n",
    "final_new_prompt = new_prompt.format(input=fulltext, existing_questions=res_text)\n",
    "print(final_new_prompt)"
   ]
  },
  {
   "cell_type": "code",
   "execution_count": null,
   "metadata": {},
   "outputs": [],
   "source": [
    "new_res_text = llm(final_new_prompt)\n",
    "print(new_res_text)\n",
    "res = output_parser.parse(new_res_text)"
   ]
  }
 ],
 "metadata": {
  "kernelspec": {
   "display_name": "venv",
   "language": "python",
   "name": "python3"
  },
  "language_info": {
   "codemirror_mode": {
    "name": "ipython",
    "version": 3
   },
   "file_extension": ".py",
   "mimetype": "text/x-python",
   "name": "python",
   "nbconvert_exporter": "python",
   "pygments_lexer": "ipython3",
   "version": "3.11.5"
  }
 },
 "nbformat": 4,
 "nbformat_minor": 2
}
